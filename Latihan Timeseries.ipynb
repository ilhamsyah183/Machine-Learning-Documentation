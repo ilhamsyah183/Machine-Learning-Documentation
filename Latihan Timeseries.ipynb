{
  "nbformat": 4,
  "nbformat_minor": 0,
  "metadata": {
    "colab": {
      "name": "Submission 2.ipynb",
      "provenance": [],
      "collapsed_sections": [],
      "include_colab_link": true
    },
    "kernelspec": {
      "name": "python3",
      "display_name": "Python 3"
    }
  },
  "cells": [
    {
      "cell_type": "markdown",
      "metadata": {
        "id": "view-in-github",
        "colab_type": "text"
      },
      "source": [
        "<a href=\"https://colab.research.google.com/github/ilhamsyah183/Machine-Learning-Documentation/blob/main/Latihan%20Timeseries.ipynb\" target=\"_parent\"><img src=\"https://colab.research.google.com/assets/colab-badge.svg\" alt=\"Open In Colab\"/></a>"
      ]
    },
    {
      "cell_type": "code",
      "metadata": {
        "id": "hd4Cy4TfHLm3",
        "colab": {
          "base_uri": "https://localhost:8080/",
          "height": 129
        },
        "outputId": "a8ac3128-9f06-4456-8c69-4b6bc8b266dc"
      },
      "source": [
        "from google.colab import drive\n",
        "drive.mount('/content/drive')"
      ],
      "execution_count": null,
      "outputs": [
        {
          "output_type": "stream",
          "text": [
            "Go to this URL in a browser: https://accounts.google.com/o/oauth2/auth?client_id=947318989803-6bn6qk8qdgf4n4g3pfee6491hc0brc4i.apps.googleusercontent.com&redirect_uri=urn%3aietf%3awg%3aoauth%3a2.0%3aoob&scope=email%20https%3a%2f%2fwww.googleapis.com%2fauth%2fdocs.test%20https%3a%2f%2fwww.googleapis.com%2fauth%2fdrive%20https%3a%2f%2fwww.googleapis.com%2fauth%2fdrive.photos.readonly%20https%3a%2f%2fwww.googleapis.com%2fauth%2fpeopleapi.readonly&response_type=code\n",
            "\n",
            "Enter your authorization code:\n",
            "··········\n",
            "Mounted at /content/drive\n"
          ],
          "name": "stdout"
        }
      ]
    },
    {
      "cell_type": "code",
      "metadata": {
        "id": "tH40pWJ2nD6y"
      },
      "source": [
        "\n",
        "import zipfile,os\n",
        "local_zip = '/content/drive/My Drive/Datasets Submisions/Submission 2/1201_2166_compressed_Luna Geocentric Clean.csv.zip'\n",
        "zip_ref = zipfile.ZipFile(local_zip, 'r')\n",
        "zip_ref.extractall('/content')\n",
        "zip_ref.close()"
      ],
      "execution_count": null,
      "outputs": []
    },
    {
      "cell_type": "code",
      "metadata": {
        "id": "obB_A9lyPtBi",
        "colab": {
          "base_uri": "https://localhost:8080/",
          "height": 424
        },
        "outputId": "54cbb6dc-cf62-4597-afdc-61f4c95e5402"
      },
      "source": [
        "\n",
        "import pandas as pd\n",
        "\n",
        "\n",
        "df = pd.read_csv(\"Luna Geocentric Clean.csv\")\n",
        "df"
      ],
      "execution_count": null,
      "outputs": [
        {
          "output_type": "execute_result",
          "data": {
            "text/html": [
              "<div>\n",
              "<style scoped>\n",
              "    .dataframe tbody tr th:only-of-type {\n",
              "        vertical-align: middle;\n",
              "    }\n",
              "\n",
              "    .dataframe tbody tr th {\n",
              "        vertical-align: top;\n",
              "    }\n",
              "\n",
              "    .dataframe thead th {\n",
              "        text-align: right;\n",
              "    }\n",
              "</style>\n",
              "<table border=\"1\" class=\"dataframe\">\n",
              "  <thead>\n",
              "    <tr style=\"text-align: right;\">\n",
              "      <th></th>\n",
              "      <th>Date</th>\n",
              "      <th>Distance (AUs)</th>\n",
              "      <th>Declination</th>\n",
              "      <th>Brightness</th>\n",
              "      <th>% Illuminated</th>\n",
              "      <th>Constellation</th>\n",
              "    </tr>\n",
              "  </thead>\n",
              "  <tbody>\n",
              "    <tr>\n",
              "      <th>0</th>\n",
              "      <td>1800-Mar-20</td>\n",
              "      <td>0.002574</td>\n",
              "      <td>-25.57026</td>\n",
              "      <td>5.71</td>\n",
              "      <td>28.482</td>\n",
              "      <td>Sgr</td>\n",
              "    </tr>\n",
              "    <tr>\n",
              "      <th>1</th>\n",
              "      <td>1800-Mar-21</td>\n",
              "      <td>0.002594</td>\n",
              "      <td>-22.37387</td>\n",
              "      <td>5.96</td>\n",
              "      <td>19.418</td>\n",
              "      <td>Cap</td>\n",
              "    </tr>\n",
              "    <tr>\n",
              "      <th>2</th>\n",
              "      <td>1800-Mar-22</td>\n",
              "      <td>0.002612</td>\n",
              "      <td>-18.13501</td>\n",
              "      <td>6.20</td>\n",
              "      <td>11.844</td>\n",
              "      <td>Cap</td>\n",
              "    </tr>\n",
              "    <tr>\n",
              "      <th>3</th>\n",
              "      <td>1800-Mar-23</td>\n",
              "      <td>0.002628</td>\n",
              "      <td>-13.04402</td>\n",
              "      <td>6.36</td>\n",
              "      <td>6.022</td>\n",
              "      <td>Aqr</td>\n",
              "    </tr>\n",
              "    <tr>\n",
              "      <th>4</th>\n",
              "      <td>1800-Mar-24</td>\n",
              "      <td>0.002643</td>\n",
              "      <td>-7.27370</td>\n",
              "      <td>6.26</td>\n",
              "      <td>2.124</td>\n",
              "      <td>Aqr</td>\n",
              "    </tr>\n",
              "    <tr>\n",
              "      <th>...</th>\n",
              "      <td>...</td>\n",
              "      <td>...</td>\n",
              "      <td>...</td>\n",
              "      <td>...</td>\n",
              "      <td>...</td>\n",
              "      <td>...</td>\n",
              "    </tr>\n",
              "    <tr>\n",
              "      <th>80636</th>\n",
              "      <td>2020-Dec-27</td>\n",
              "      <td>0.002656</td>\n",
              "      <td>18.00002</td>\n",
              "      <td>4.15</td>\n",
              "      <td>90.903</td>\n",
              "      <td>Tau</td>\n",
              "    </tr>\n",
              "    <tr>\n",
              "      <th>80637</th>\n",
              "      <td>2020-Dec-28</td>\n",
              "      <td>0.002642</td>\n",
              "      <td>21.08397</td>\n",
              "      <td>3.91</td>\n",
              "      <td>95.715</td>\n",
              "      <td>Tau</td>\n",
              "    </tr>\n",
              "    <tr>\n",
              "      <th>80638</th>\n",
              "      <td>2020-Dec-29</td>\n",
              "      <td>0.002626</td>\n",
              "      <td>23.19300</td>\n",
              "      <td>3.65</td>\n",
              "      <td>98.811</td>\n",
              "      <td>Tau</td>\n",
              "    </tr>\n",
              "    <tr>\n",
              "      <th>80639</th>\n",
              "      <td>2020-Dec-30</td>\n",
              "      <td>0.002609</td>\n",
              "      <td>24.20497</td>\n",
              "      <td>3.38</td>\n",
              "      <td>99.983</td>\n",
              "      <td>Gem</td>\n",
              "    </tr>\n",
              "    <tr>\n",
              "      <th>80640</th>\n",
              "      <td>2020-Dec-31</td>\n",
              "      <td>0.002593</td>\n",
              "      <td>24.04379</td>\n",
              "      <td>3.61</td>\n",
              "      <td>99.083</td>\n",
              "      <td>Gem</td>\n",
              "    </tr>\n",
              "  </tbody>\n",
              "</table>\n",
              "<p>80641 rows × 6 columns</p>\n",
              "</div>"
            ],
            "text/plain": [
              "               Date  Distance (AUs)  ...  % Illuminated  Constellation\n",
              "0       1800-Mar-20        0.002574  ...         28.482            Sgr\n",
              "1       1800-Mar-21        0.002594  ...         19.418            Cap\n",
              "2       1800-Mar-22        0.002612  ...         11.844            Cap\n",
              "3       1800-Mar-23        0.002628  ...          6.022            Aqr\n",
              "4       1800-Mar-24        0.002643  ...          2.124            Aqr\n",
              "...             ...             ...  ...            ...            ...\n",
              "80636   2020-Dec-27        0.002656  ...         90.903            Tau\n",
              "80637   2020-Dec-28        0.002642  ...         95.715            Tau\n",
              "80638   2020-Dec-29        0.002626  ...         98.811            Tau\n",
              "80639   2020-Dec-30        0.002609  ...         99.983            Gem\n",
              "80640   2020-Dec-31        0.002593  ...         99.083            Gem\n",
              "\n",
              "[80641 rows x 6 columns]"
            ]
          },
          "metadata": {
            "tags": []
          },
          "execution_count": 26
        }
      ]
    },
    {
      "cell_type": "code",
      "metadata": {
        "id": "8Uywx1ezuFxZ",
        "colab": {
          "base_uri": "https://localhost:8080/",
          "height": 424
        },
        "outputId": "2c154d26-d5c4-4b8b-faff-fa1ebdf58ad8"
      },
      "source": [
        "df['Date'] = pd.to_datetime(df['Date'])\n",
        "df"
      ],
      "execution_count": null,
      "outputs": [
        {
          "output_type": "execute_result",
          "data": {
            "text/html": [
              "<div>\n",
              "<style scoped>\n",
              "    .dataframe tbody tr th:only-of-type {\n",
              "        vertical-align: middle;\n",
              "    }\n",
              "\n",
              "    .dataframe tbody tr th {\n",
              "        vertical-align: top;\n",
              "    }\n",
              "\n",
              "    .dataframe thead th {\n",
              "        text-align: right;\n",
              "    }\n",
              "</style>\n",
              "<table border=\"1\" class=\"dataframe\">\n",
              "  <thead>\n",
              "    <tr style=\"text-align: right;\">\n",
              "      <th></th>\n",
              "      <th>Date</th>\n",
              "      <th>Distance (AUs)</th>\n",
              "      <th>Declination</th>\n",
              "      <th>Brightness</th>\n",
              "      <th>% Illuminated</th>\n",
              "      <th>Constellation</th>\n",
              "    </tr>\n",
              "  </thead>\n",
              "  <tbody>\n",
              "    <tr>\n",
              "      <th>0</th>\n",
              "      <td>1800-03-20</td>\n",
              "      <td>0.002574</td>\n",
              "      <td>-25.57026</td>\n",
              "      <td>5.71</td>\n",
              "      <td>28.482</td>\n",
              "      <td>Sgr</td>\n",
              "    </tr>\n",
              "    <tr>\n",
              "      <th>1</th>\n",
              "      <td>1800-03-21</td>\n",
              "      <td>0.002594</td>\n",
              "      <td>-22.37387</td>\n",
              "      <td>5.96</td>\n",
              "      <td>19.418</td>\n",
              "      <td>Cap</td>\n",
              "    </tr>\n",
              "    <tr>\n",
              "      <th>2</th>\n",
              "      <td>1800-03-22</td>\n",
              "      <td>0.002612</td>\n",
              "      <td>-18.13501</td>\n",
              "      <td>6.20</td>\n",
              "      <td>11.844</td>\n",
              "      <td>Cap</td>\n",
              "    </tr>\n",
              "    <tr>\n",
              "      <th>3</th>\n",
              "      <td>1800-03-23</td>\n",
              "      <td>0.002628</td>\n",
              "      <td>-13.04402</td>\n",
              "      <td>6.36</td>\n",
              "      <td>6.022</td>\n",
              "      <td>Aqr</td>\n",
              "    </tr>\n",
              "    <tr>\n",
              "      <th>4</th>\n",
              "      <td>1800-03-24</td>\n",
              "      <td>0.002643</td>\n",
              "      <td>-7.27370</td>\n",
              "      <td>6.26</td>\n",
              "      <td>2.124</td>\n",
              "      <td>Aqr</td>\n",
              "    </tr>\n",
              "    <tr>\n",
              "      <th>...</th>\n",
              "      <td>...</td>\n",
              "      <td>...</td>\n",
              "      <td>...</td>\n",
              "      <td>...</td>\n",
              "      <td>...</td>\n",
              "      <td>...</td>\n",
              "    </tr>\n",
              "    <tr>\n",
              "      <th>80636</th>\n",
              "      <td>2020-12-27</td>\n",
              "      <td>0.002656</td>\n",
              "      <td>18.00002</td>\n",
              "      <td>4.15</td>\n",
              "      <td>90.903</td>\n",
              "      <td>Tau</td>\n",
              "    </tr>\n",
              "    <tr>\n",
              "      <th>80637</th>\n",
              "      <td>2020-12-28</td>\n",
              "      <td>0.002642</td>\n",
              "      <td>21.08397</td>\n",
              "      <td>3.91</td>\n",
              "      <td>95.715</td>\n",
              "      <td>Tau</td>\n",
              "    </tr>\n",
              "    <tr>\n",
              "      <th>80638</th>\n",
              "      <td>2020-12-29</td>\n",
              "      <td>0.002626</td>\n",
              "      <td>23.19300</td>\n",
              "      <td>3.65</td>\n",
              "      <td>98.811</td>\n",
              "      <td>Tau</td>\n",
              "    </tr>\n",
              "    <tr>\n",
              "      <th>80639</th>\n",
              "      <td>2020-12-30</td>\n",
              "      <td>0.002609</td>\n",
              "      <td>24.20497</td>\n",
              "      <td>3.38</td>\n",
              "      <td>99.983</td>\n",
              "      <td>Gem</td>\n",
              "    </tr>\n",
              "    <tr>\n",
              "      <th>80640</th>\n",
              "      <td>2020-12-31</td>\n",
              "      <td>0.002593</td>\n",
              "      <td>24.04379</td>\n",
              "      <td>3.61</td>\n",
              "      <td>99.083</td>\n",
              "      <td>Gem</td>\n",
              "    </tr>\n",
              "  </tbody>\n",
              "</table>\n",
              "<p>80641 rows × 6 columns</p>\n",
              "</div>"
            ],
            "text/plain": [
              "            Date  Distance (AUs)  ...  % Illuminated  Constellation\n",
              "0     1800-03-20        0.002574  ...         28.482            Sgr\n",
              "1     1800-03-21        0.002594  ...         19.418            Cap\n",
              "2     1800-03-22        0.002612  ...         11.844            Cap\n",
              "3     1800-03-23        0.002628  ...          6.022            Aqr\n",
              "4     1800-03-24        0.002643  ...          2.124            Aqr\n",
              "...          ...             ...  ...            ...            ...\n",
              "80636 2020-12-27        0.002656  ...         90.903            Tau\n",
              "80637 2020-12-28        0.002642  ...         95.715            Tau\n",
              "80638 2020-12-29        0.002626  ...         98.811            Tau\n",
              "80639 2020-12-30        0.002609  ...         99.983            Gem\n",
              "80640 2020-12-31        0.002593  ...         99.083            Gem\n",
              "\n",
              "[80641 rows x 6 columns]"
            ]
          },
          "metadata": {
            "tags": []
          },
          "execution_count": 27
        }
      ]
    },
    {
      "cell_type": "code",
      "metadata": {
        "id": "HGtKxpo2D_yn",
        "colab": {
          "base_uri": "https://localhost:8080/",
          "height": 300
        },
        "outputId": "5736b7de-0f13-4c30-8653-69724783eb4b"
      },
      "source": [
        "df.describe()"
      ],
      "execution_count": null,
      "outputs": [
        {
          "output_type": "execute_result",
          "data": {
            "text/html": [
              "<div>\n",
              "<style scoped>\n",
              "    .dataframe tbody tr th:only-of-type {\n",
              "        vertical-align: middle;\n",
              "    }\n",
              "\n",
              "    .dataframe tbody tr th {\n",
              "        vertical-align: top;\n",
              "    }\n",
              "\n",
              "    .dataframe thead th {\n",
              "        text-align: right;\n",
              "    }\n",
              "</style>\n",
              "<table border=\"1\" class=\"dataframe\">\n",
              "  <thead>\n",
              "    <tr style=\"text-align: right;\">\n",
              "      <th></th>\n",
              "      <th>Distance (AUs)</th>\n",
              "      <th>Declination</th>\n",
              "      <th>Brightness</th>\n",
              "      <th>% Illuminated</th>\n",
              "    </tr>\n",
              "  </thead>\n",
              "  <tbody>\n",
              "    <tr>\n",
              "      <th>count</th>\n",
              "      <td>80641.000000</td>\n",
              "      <td>80641.000000</td>\n",
              "      <td>80641.000000</td>\n",
              "      <td>80641.000000</td>\n",
              "    </tr>\n",
              "    <tr>\n",
              "      <th>mean</th>\n",
              "      <td>0.002574</td>\n",
              "      <td>-0.587233</td>\n",
              "      <td>5.096706</td>\n",
              "      <td>49.965604</td>\n",
              "    </tr>\n",
              "    <tr>\n",
              "      <th>std</th>\n",
              "      <td>0.000104</td>\n",
              "      <td>16.624808</td>\n",
              "      <td>0.894193</td>\n",
              "      <td>35.125153</td>\n",
              "    </tr>\n",
              "    <tr>\n",
              "      <th>min</th>\n",
              "      <td>0.002359</td>\n",
              "      <td>-29.393020</td>\n",
              "      <td>-1.810000</td>\n",
              "      <td>0.000000</td>\n",
              "    </tr>\n",
              "    <tr>\n",
              "      <th>25%</th>\n",
              "      <td>0.002483</td>\n",
              "      <td>-16.295060</td>\n",
              "      <td>4.370000</td>\n",
              "      <td>15.019000</td>\n",
              "    </tr>\n",
              "    <tr>\n",
              "      <th>50%</th>\n",
              "      <td>0.002579</td>\n",
              "      <td>-0.381280</td>\n",
              "      <td>5.140000</td>\n",
              "      <td>49.924000</td>\n",
              "    </tr>\n",
              "    <tr>\n",
              "      <th>75%</th>\n",
              "      <td>0.002669</td>\n",
              "      <td>15.175630</td>\n",
              "      <td>5.900000</td>\n",
              "      <td>84.910000</td>\n",
              "    </tr>\n",
              "    <tr>\n",
              "      <th>max</th>\n",
              "      <td>0.002751</td>\n",
              "      <td>28.315850</td>\n",
              "      <td>6.420000</td>\n",
              "      <td>100.000000</td>\n",
              "    </tr>\n",
              "  </tbody>\n",
              "</table>\n",
              "</div>"
            ],
            "text/plain": [
              "       Distance (AUs)   Declination    Brightness  % Illuminated\n",
              "count    80641.000000  80641.000000  80641.000000   80641.000000\n",
              "mean         0.002574     -0.587233      5.096706      49.965604\n",
              "std          0.000104     16.624808      0.894193      35.125153\n",
              "min          0.002359    -29.393020     -1.810000       0.000000\n",
              "25%          0.002483    -16.295060      4.370000      15.019000\n",
              "50%          0.002579     -0.381280      5.140000      49.924000\n",
              "75%          0.002669     15.175630      5.900000      84.910000\n",
              "max          0.002751     28.315850      6.420000     100.000000"
            ]
          },
          "metadata": {
            "tags": []
          },
          "execution_count": 28
        }
      ]
    },
    {
      "cell_type": "code",
      "metadata": {
        "id": "-wa78XvfU3mg",
        "colab": {
          "base_uri": "https://localhost:8080/",
          "height": 424
        },
        "outputId": "3abbef3a-bdc7-47d3-b462-b9aa82916853"
      },
      "source": [
        "df = df[['Date','Declination']]\n",
        "df"
      ],
      "execution_count": null,
      "outputs": [
        {
          "output_type": "execute_result",
          "data": {
            "text/html": [
              "<div>\n",
              "<style scoped>\n",
              "    .dataframe tbody tr th:only-of-type {\n",
              "        vertical-align: middle;\n",
              "    }\n",
              "\n",
              "    .dataframe tbody tr th {\n",
              "        vertical-align: top;\n",
              "    }\n",
              "\n",
              "    .dataframe thead th {\n",
              "        text-align: right;\n",
              "    }\n",
              "</style>\n",
              "<table border=\"1\" class=\"dataframe\">\n",
              "  <thead>\n",
              "    <tr style=\"text-align: right;\">\n",
              "      <th></th>\n",
              "      <th>Date</th>\n",
              "      <th>Declination</th>\n",
              "    </tr>\n",
              "  </thead>\n",
              "  <tbody>\n",
              "    <tr>\n",
              "      <th>0</th>\n",
              "      <td>1800-03-20</td>\n",
              "      <td>-25.57026</td>\n",
              "    </tr>\n",
              "    <tr>\n",
              "      <th>1</th>\n",
              "      <td>1800-03-21</td>\n",
              "      <td>-22.37387</td>\n",
              "    </tr>\n",
              "    <tr>\n",
              "      <th>2</th>\n",
              "      <td>1800-03-22</td>\n",
              "      <td>-18.13501</td>\n",
              "    </tr>\n",
              "    <tr>\n",
              "      <th>3</th>\n",
              "      <td>1800-03-23</td>\n",
              "      <td>-13.04402</td>\n",
              "    </tr>\n",
              "    <tr>\n",
              "      <th>4</th>\n",
              "      <td>1800-03-24</td>\n",
              "      <td>-7.27370</td>\n",
              "    </tr>\n",
              "    <tr>\n",
              "      <th>...</th>\n",
              "      <td>...</td>\n",
              "      <td>...</td>\n",
              "    </tr>\n",
              "    <tr>\n",
              "      <th>80636</th>\n",
              "      <td>2020-12-27</td>\n",
              "      <td>18.00002</td>\n",
              "    </tr>\n",
              "    <tr>\n",
              "      <th>80637</th>\n",
              "      <td>2020-12-28</td>\n",
              "      <td>21.08397</td>\n",
              "    </tr>\n",
              "    <tr>\n",
              "      <th>80638</th>\n",
              "      <td>2020-12-29</td>\n",
              "      <td>23.19300</td>\n",
              "    </tr>\n",
              "    <tr>\n",
              "      <th>80639</th>\n",
              "      <td>2020-12-30</td>\n",
              "      <td>24.20497</td>\n",
              "    </tr>\n",
              "    <tr>\n",
              "      <th>80640</th>\n",
              "      <td>2020-12-31</td>\n",
              "      <td>24.04379</td>\n",
              "    </tr>\n",
              "  </tbody>\n",
              "</table>\n",
              "<p>80641 rows × 2 columns</p>\n",
              "</div>"
            ],
            "text/plain": [
              "            Date  Declination\n",
              "0     1800-03-20    -25.57026\n",
              "1     1800-03-21    -22.37387\n",
              "2     1800-03-22    -18.13501\n",
              "3     1800-03-23    -13.04402\n",
              "4     1800-03-24     -7.27370\n",
              "...          ...          ...\n",
              "80636 2020-12-27     18.00002\n",
              "80637 2020-12-28     21.08397\n",
              "80638 2020-12-29     23.19300\n",
              "80639 2020-12-30     24.20497\n",
              "80640 2020-12-31     24.04379\n",
              "\n",
              "[80641 rows x 2 columns]"
            ]
          },
          "metadata": {
            "tags": []
          },
          "execution_count": 29
        }
      ]
    },
    {
      "cell_type": "code",
      "metadata": {
        "id": "8FvCCEmS8RzM",
        "colab": {
          "base_uri": "https://localhost:8080/",
          "height": 35
        },
        "outputId": "2305ce9b-196b-4e32-d4f6-3cb000f3255c"
      },
      "source": [
        "min = df['Declination'].min()\n",
        "max = df['Declination'].max()\n",
        "syarat = (max - min)*(10/100)\n",
        "print(syarat)"
      ],
      "execution_count": null,
      "outputs": [
        {
          "output_type": "stream",
          "text": [
            "5.770887000000001\n"
          ],
          "name": "stdout"
        }
      ]
    },
    {
      "cell_type": "code",
      "metadata": {
        "id": "aAxBID4zubDs",
        "colab": {
          "base_uri": "https://localhost:8080/",
          "height": 341
        },
        "outputId": "c211a0d3-c589-4788-de61-a0654b4b08dd"
      },
      "source": [
        "    import matplotlib.pyplot as plt\n",
        "\n",
        "\n",
        "    dates = df['Date'].values\n",
        "    jarak  = df['Declination'].values\n",
        "\n",
        "    plt.figure(figsize=(15,5))\n",
        "    plt.plot(dates, jarak)\n",
        "    plt.title('Declination Per Hari',\n",
        "              fontsize=20);"
      ],
      "execution_count": null,
      "outputs": [
        {
          "output_type": "display_data",
          "data": {
            "image/png": "[encoded data removed]",
            "text/plain": [
              "<Figure size 1080x360 with 1 Axes>"
            ]
          },
          "metadata": {
            "tags": [],
            "needs_background": "light"
          }
        }
      ]
    },
    {
      "cell_type": "code",
      "metadata": {
        "id": "0drii0zywD1u",
        "colab": {
          "base_uri": "https://localhost:8080/",
          "height": 72
        },
        "outputId": "4c370c23-6256-4d9d-a7cc-8712fff2e765"
      },
      "source": [
        "df.isnull().sum()"
      ],
      "execution_count": null,
      "outputs": [
        {
          "output_type": "execute_result",
          "data": {
            "text/plain": [
              "Date           0\n",
              "Declination    0\n",
              "dtype: int64"
            ]
          },
          "metadata": {
            "tags": []
          },
          "execution_count": 32
        }
      ]
    },
    {
      "cell_type": "code",
      "metadata": {
        "id": "IfL8bJ8cyDSd"
      },
      "source": [
        "n = len(df)\n",
        "train_df = df[0:int(n*0.8)]\n",
        "val_df = df[int(n*0.8):int(n*1.0)]\n"
      ],
      "execution_count": null,
      "outputs": []
    },
    {
      "cell_type": "code",
      "metadata": {
        "id": "qyGXbK4Yzcw9",
        "colab": {
          "base_uri": "https://localhost:8080/",
          "height": 424
        },
        "outputId": "1480a115-68e2-4e77-b060-bb325aa4c53c"
      },
      "source": [
        "\n",
        "train_df"
      ],
      "execution_count": null,
      "outputs": [
        {
          "output_type": "execute_result",
          "data": {
            "text/html": [
              "<div>\n",
              "<style scoped>\n",
              "    .dataframe tbody tr th:only-of-type {\n",
              "        vertical-align: middle;\n",
              "    }\n",
              "\n",
              "    .dataframe tbody tr th {\n",
              "        vertical-align: top;\n",
              "    }\n",
              "\n",
              "    .dataframe thead th {\n",
              "        text-align: right;\n",
              "    }\n",
              "</style>\n",
              "<table border=\"1\" class=\"dataframe\">\n",
              "  <thead>\n",
              "    <tr style=\"text-align: right;\">\n",
              "      <th></th>\n",
              "      <th>Date</th>\n",
              "      <th>Declination</th>\n",
              "    </tr>\n",
              "  </thead>\n",
              "  <tbody>\n",
              "    <tr>\n",
              "      <th>0</th>\n",
              "      <td>1800-03-20</td>\n",
              "      <td>-25.57026</td>\n",
              "    </tr>\n",
              "    <tr>\n",
              "      <th>1</th>\n",
              "      <td>1800-03-21</td>\n",
              "      <td>-22.37387</td>\n",
              "    </tr>\n",
              "    <tr>\n",
              "      <th>2</th>\n",
              "      <td>1800-03-22</td>\n",
              "      <td>-18.13501</td>\n",
              "    </tr>\n",
              "    <tr>\n",
              "      <th>3</th>\n",
              "      <td>1800-03-23</td>\n",
              "      <td>-13.04402</td>\n",
              "    </tr>\n",
              "    <tr>\n",
              "      <th>4</th>\n",
              "      <td>1800-03-24</td>\n",
              "      <td>-7.27370</td>\n",
              "    </tr>\n",
              "    <tr>\n",
              "      <th>...</th>\n",
              "      <td>...</td>\n",
              "      <td>...</td>\n",
              "    </tr>\n",
              "    <tr>\n",
              "      <th>64507</th>\n",
              "      <td>1976-10-30</td>\n",
              "      <td>-13.55270</td>\n",
              "    </tr>\n",
              "    <tr>\n",
              "      <th>64508</th>\n",
              "      <td>1976-10-31</td>\n",
              "      <td>-10.26385</td>\n",
              "    </tr>\n",
              "    <tr>\n",
              "      <th>64509</th>\n",
              "      <td>1976-11-01</td>\n",
              "      <td>-6.35568</td>\n",
              "    </tr>\n",
              "    <tr>\n",
              "      <th>64510</th>\n",
              "      <td>1976-11-02</td>\n",
              "      <td>-2.34328</td>\n",
              "    </tr>\n",
              "    <tr>\n",
              "      <th>64511</th>\n",
              "      <td>1976-11-03</td>\n",
              "      <td>1.27487</td>\n",
              "    </tr>\n",
              "  </tbody>\n",
              "</table>\n",
              "<p>64512 rows × 2 columns</p>\n",
              "</div>"
            ],
            "text/plain": [
              "            Date  Declination\n",
              "0     1800-03-20    -25.57026\n",
              "1     1800-03-21    -22.37387\n",
              "2     1800-03-22    -18.13501\n",
              "3     1800-03-23    -13.04402\n",
              "4     1800-03-24     -7.27370\n",
              "...          ...          ...\n",
              "64507 1976-10-30    -13.55270\n",
              "64508 1976-10-31    -10.26385\n",
              "64509 1976-11-01     -6.35568\n",
              "64510 1976-11-02     -2.34328\n",
              "64511 1976-11-03      1.27487\n",
              "\n",
              "[64512 rows x 2 columns]"
            ]
          },
          "metadata": {
            "tags": []
          },
          "execution_count": 34
        }
      ]
    },
    {
      "cell_type": "code",
      "metadata": {
        "id": "xPOimCMezeKj",
        "colab": {
          "base_uri": "https://localhost:8080/",
          "height": 424
        },
        "outputId": "98fb2a8b-abed-4907-93e1-de1c233d9081"
      },
      "source": [
        "val_df"
      ],
      "execution_count": null,
      "outputs": [
        {
          "output_type": "execute_result",
          "data": {
            "text/html": [
              "<div>\n",
              "<style scoped>\n",
              "    .dataframe tbody tr th:only-of-type {\n",
              "        vertical-align: middle;\n",
              "    }\n",
              "\n",
              "    .dataframe tbody tr th {\n",
              "        vertical-align: top;\n",
              "    }\n",
              "\n",
              "    .dataframe thead th {\n",
              "        text-align: right;\n",
              "    }\n",
              "</style>\n",
              "<table border=\"1\" class=\"dataframe\">\n",
              "  <thead>\n",
              "    <tr style=\"text-align: right;\">\n",
              "      <th></th>\n",
              "      <th>Date</th>\n",
              "      <th>Declination</th>\n",
              "    </tr>\n",
              "  </thead>\n",
              "  <tbody>\n",
              "    <tr>\n",
              "      <th>64512</th>\n",
              "      <td>1976-11-04</td>\n",
              "      <td>5.22171</td>\n",
              "    </tr>\n",
              "    <tr>\n",
              "      <th>64513</th>\n",
              "      <td>1976-11-05</td>\n",
              "      <td>9.00295</td>\n",
              "    </tr>\n",
              "    <tr>\n",
              "      <th>64514</th>\n",
              "      <td>1976-11-06</td>\n",
              "      <td>12.14162</td>\n",
              "    </tr>\n",
              "    <tr>\n",
              "      <th>64515</th>\n",
              "      <td>1976-11-07</td>\n",
              "      <td>14.55436</td>\n",
              "    </tr>\n",
              "    <tr>\n",
              "      <th>64516</th>\n",
              "      <td>1976-11-08</td>\n",
              "      <td>16.57330</td>\n",
              "    </tr>\n",
              "    <tr>\n",
              "      <th>...</th>\n",
              "      <td>...</td>\n",
              "      <td>...</td>\n",
              "    </tr>\n",
              "    <tr>\n",
              "      <th>80636</th>\n",
              "      <td>2020-12-27</td>\n",
              "      <td>18.00002</td>\n",
              "    </tr>\n",
              "    <tr>\n",
              "      <th>80637</th>\n",
              "      <td>2020-12-28</td>\n",
              "      <td>21.08397</td>\n",
              "    </tr>\n",
              "    <tr>\n",
              "      <th>80638</th>\n",
              "      <td>2020-12-29</td>\n",
              "      <td>23.19300</td>\n",
              "    </tr>\n",
              "    <tr>\n",
              "      <th>80639</th>\n",
              "      <td>2020-12-30</td>\n",
              "      <td>24.20497</td>\n",
              "    </tr>\n",
              "    <tr>\n",
              "      <th>80640</th>\n",
              "      <td>2020-12-31</td>\n",
              "      <td>24.04379</td>\n",
              "    </tr>\n",
              "  </tbody>\n",
              "</table>\n",
              "<p>16129 rows × 2 columns</p>\n",
              "</div>"
            ],
            "text/plain": [
              "            Date  Declination\n",
              "64512 1976-11-04      5.22171\n",
              "64513 1976-11-05      9.00295\n",
              "64514 1976-11-06     12.14162\n",
              "64515 1976-11-07     14.55436\n",
              "64516 1976-11-08     16.57330\n",
              "...          ...          ...\n",
              "80636 2020-12-27     18.00002\n",
              "80637 2020-12-28     21.08397\n",
              "80638 2020-12-29     23.19300\n",
              "80639 2020-12-30     24.20497\n",
              "80640 2020-12-31     24.04379\n",
              "\n",
              "[16129 rows x 2 columns]"
            ]
          },
          "metadata": {
            "tags": []
          },
          "execution_count": 35
        }
      ]
    },
    {
      "cell_type": "code",
      "metadata": {
        "id": "CITJLRSx6A4H",
        "colab": {
          "base_uri": "https://localhost:8080/",
          "height": 341
        },
        "outputId": "d11c04f2-bd1a-4a47-b20a-7194b1be91a3"
      },
      "source": [
        "import matplotlib.pyplot as plt\n",
        "\n",
        "dates_train = train_df['Date'].values\n",
        "jarak_train  = train_df['Declination'].values\n",
        "\n",
        "plt.figure(figsize=(15,5))\n",
        "plt.plot(dates_train, jarak_train)\n",
        "plt.title('Declination per Hari',\n",
        "          fontsize=20);"
      ],
      "execution_count": null,
      "outputs": [
        {
          "output_type": "display_data",
          "data": {
            "image/png": "[encoded data removed]",
            "text/plain": [
              "<Figure size 1080x360 with 1 Axes>"
            ]
          },
          "metadata": {
            "tags": [],
            "needs_background": "light"
          }
        }
      ]
    },
    {
      "cell_type": "code",
      "metadata": {
        "id": "L0DdYmA_855d",
        "colab": {
          "base_uri": "https://localhost:8080/",
          "height": 341
        },
        "outputId": "82bcf155-bec1-4e4c-8948-d57d9e9703b7"
      },
      "source": [
        "import matplotlib.pyplot as plt\n",
        "\n",
        "dates_val = val_df['Date'].values\n",
        "jarak_val  = val_df['Declination'].values\n",
        "\n",
        "plt.figure(figsize=(15,5))\n",
        "plt.plot(dates_val, jarak_val)\n",
        "plt.title('Declination per Hari',\n",
        "          fontsize=20);"
      ],
      "execution_count": null,
      "outputs": [
        {
          "output_type": "display_data",
          "data": {
            "image/png": "[encoded data removed]",
            "text/plain": [
              "<Figure size 1080x360 with 1 Axes>"
            ]
          },
          "metadata": {
            "tags": [],
            "needs_background": "light"
          }
        }
      ]
    },
    {
      "cell_type": "code",
      "metadata": {
        "id": "GSUlKymvzhtJ"
      },
      "source": [
        "\n",
        "def windowed_dataset(series, window_size, batch_size, shuffle_buffer):\n",
        "    series = tf.expand_dims(series, axis=-1)\n",
        "    ds = tf.data.Dataset.from_tensor_slices(series)\n",
        "    ds = ds.window(window_size + 1, shift=1, drop_remainder=True)\n",
        "    ds = ds.flat_map(lambda w: w.batch(window_size + 1))\n",
        "    ds = ds.shuffle(shuffle_buffer)\n",
        "    ds = ds.map(lambda w: (w[:-1], w[1:]))\n",
        "    return ds.batch(batch_size).prefetch(1)"
      ],
      "execution_count": null,
      "outputs": []
    },
    {
      "cell_type": "code",
      "metadata": {
        "id": "cYMrkNEQ3Vte"
      },
      "source": [
        "from keras.layers import Dense, LSTM\n",
        "import tensorflow as tf\n",
        "\n",
        "train_set = windowed_dataset(jarak_train, window_size=80, batch_size=10, shuffle_buffer=1000)\n",
        "val_set = windowed_dataset(jarak_val, window_size=80, batch_size=10, shuffle_buffer=1000)\n",
        "\n",
        "model = tf.keras.models.Sequential([\n",
        "  tf.keras.layers.LSTM(60, return_sequences=True),\n",
        "  tf.keras.layers.LSTM(60, return_sequences=True),\n",
        "  tf.keras.layers.Dense(30, activation=\"relu\"),\n",
        "  tf.keras.layers.Dense(10, activation=\"relu\"),\n",
        "  tf.keras.layers.Dense(1),\n",
        "  tf.keras.layers.Lambda(lambda x: x * 400)\n",
        "])"
      ],
      "execution_count": null,
      "outputs": []
    },
    {
      "cell_type": "code",
      "metadata": {
        "id": "r5TMNuW4B3qI"
      },
      "source": [
        "    class myCallback(tf.keras.callbacks.Callback):\n",
        "      def on_epoch_end(self, epoch, logs={}):\n",
        "        if(logs.get('mae')<(syarat * 0.6)):\n",
        "          print(\" MAE telah kurang dari 10%\")\n",
        "          self.model.stop_training = True\n",
        "    callbacks = myCallback()"
      ],
      "execution_count": null,
      "outputs": []
    },
    {
      "cell_type": "code",
      "metadata": {
        "id": "8ByvWO2h6PnT",
        "colab": {
          "base_uri": "https://localhost:8080/",
          "height": 92
        },
        "outputId": "f76ecb8f-319b-4e57-e23d-480267c7e43e"
      },
      "source": [
        "optimizer = tf.keras.optimizers.SGD(lr=0.00001, momentum=0.1)\n",
        "model.compile(loss=tf.keras.losses.Huber(),\n",
        "              optimizer=optimizer,\n",
        "              metrics=[\"mae\"])\n",
        "history = model.fit(train_set,epochs=25,validation_data=(val_set), steps_per_epoch=200, callbacks=[callbacks])"
      ],
      "execution_count": null,
      "outputs": [
        {
          "output_type": "stream",
          "text": [
            "Epoch 1/25\n",
            "200/200 [==============================] - ETA: 0s - loss: 2.2671 - mae: 2.7209 MAE telah kurang dari 10%\n",
            "200/200 [==============================] - 31s 155ms/step - loss: 2.2671 - mae: 2.7209 - val_loss: 2.2904 - val_mae: 2.7382\n"
          ],
          "name": "stdout"
        }
      ]
    },
    {
      "cell_type": "code",
      "metadata": {
        "id": "z3-Z1heNDf-n"
      },
      "source": [
        ""
      ],
      "execution_count": null,
      "outputs": []
    }
  ]
}